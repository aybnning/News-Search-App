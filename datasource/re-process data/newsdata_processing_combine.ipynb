{
 "cells": [
  {
   "cell_type": "code",
   "execution_count": 14,
   "metadata": {},
   "outputs": [],
   "source": [
    "import json"
   ]
  },
  {
   "cell_type": "code",
   "execution_count": 15,
   "metadata": {},
   "outputs": [
    {
     "name": "stdout",
     "output_type": "stream",
     "text": [
      "{'category': 'CRIME', 'title': 'There Were 2 Mass Shootings In Texas Last Week, But Only 1 On TV', 'author': 'Melissa Jeltsen', 'url': 'https://www.huffingtonpost.com/entry/texas-amanda-painter-mass-shooting_us_5b081ab4e4b0802d69caad89', 'content': 'She left her husband. He killed their children. Just another day in America.', 'date': '2018-05-26'}\n"
     ]
    }
   ],
   "source": [
    "#the following code combines 'categorized_news_part1.json' and 'categorized_news_part2.json'\n",
    "with open('categorized_news_part1.json', 'r') as df1:\n",
    "    data1 = json.load(df1)\n",
    "with open('categorized_news_part2.json', 'r') as df2:\n",
    "    data2 = json.load(df2)\n",
    "data = data1 + data2\n",
    "print(data[0])"
   ]
  },
  {
   "cell_type": "code",
   "execution_count": 16,
   "metadata": {},
   "outputs": [],
   "source": [
    "with open('categorized_news.json', 'w') as df:\n",
    "    json.dump(data, df)"
   ]
  },
  {
   "cell_type": "code",
   "execution_count": 17,
   "metadata": {},
   "outputs": [
    {
     "name": "stdout",
     "output_type": "stream",
     "text": [
      "59472\n"
     ]
    }
   ],
   "source": [
    "print(len(data))"
   ]
  },
  {
   "cell_type": "code",
   "execution_count": null,
   "metadata": {},
   "outputs": [],
   "source": []
  }
 ],
 "metadata": {
  "kernelspec": {
   "display_name": "Python 3",
   "language": "python",
   "name": "python3"
  },
  "language_info": {
   "codemirror_mode": {
    "name": "ipython",
    "version": 3
   },
   "file_extension": ".py",
   "mimetype": "text/x-python",
   "name": "python",
   "nbconvert_exporter": "python",
   "pygments_lexer": "ipython3",
   "version": "3.7.6"
  }
 },
 "nbformat": 4,
 "nbformat_minor": 2
}
