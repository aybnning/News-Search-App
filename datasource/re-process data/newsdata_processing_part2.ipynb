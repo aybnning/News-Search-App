{
 "cells": [
  {
   "cell_type": "code",
   "execution_count": 16,
   "metadata": {},
   "outputs": [],
   "source": [
    "import json"
   ]
  },
  {
   "cell_type": "code",
   "execution_count": 17,
   "metadata": {},
   "outputs": [],
   "source": [
    "#function used to get first sentence of a paragraph (stop at first '.')\n",
    "def get_first_sentence(content):\n",
    "    contentList = content.split('.' + ' ')\n",
    "    return contentList[0]\n",
    "#get_first_sentence(' Turkey and Russia signed an agreement on Monday for the construction of a major undersea gas pipeline and vowed to seek common ground on the war in Syria, accelerating a normalization in ties nearly a year after Turkey shot down a Russian warplane. Turkish President Tayyip Erdogan hosted Russia’s Vladimir Putin at an   villa in Istanbul for talks which touched on energy deals, trade and tourism ties, defense and the conflict in Syria, where the two leaders back opposing sides. ”Today has been a full day with President Putin of discussing   relations . .. I have full confidence that the normalization of   ties will continue at a fast pace,” Erdogan told a joint news conference. The warming relations between NATO member Turkey and Russia comes as both countries are dealing with troubled economies and strained ties with the West.  Putin said Moscow had decided to lift a ban on some food products from Turkey, imposed after the Turks shot down a Russian fighter jet near the Syrian border last November, and that both leaders had agreed to work toward the   normalization of bilateral ties. They signed a deal on the TurkStream undersea gas pipeline, which will allow Moscow to strengthen its position in the European gas market and cut energy supplies via Ukraine, the main route for Russian energy into Europe.  The plan for TurkStream emerged after Russia dropped plans to build the South Stream pipeline to Bulgaria due to opposition from the European Union, which is trying to reduce its dependence on Russian gas. Erdogan also said plans for a   nuclear power plant in Turkey would be accelerated. Time lost on the Akkuyu project because of strained relations would be made up, he said. In 2013, Russia’s state nuclear corporation Rosatom won a $20 billion contract to build four reactors in what was to become Turkey’s first nuclear plant, but construction was halted after the downing of the Russian jet. DEEP DIVISIONS ON SYRIA Putin received Erdogan in a   palace outside his home city of St Petersburg in August, when the two leaders, both powerful figures   to dissent, announced plans for an acceleration in trade and energy ties.')"
   ]
  },
  {
   "cell_type": "code",
   "execution_count": 18,
   "metadata": {},
   "outputs": [
    {
     "name": "stdout",
     "output_type": "stream",
     "text": [
      "{'title': 'Don’t Assault Lawless Leftists — Sue Them into Bankruptcy', 'author': 'David French', 'date': 1458518400000, 'url': 'http://www.nationalreview.com/article/433047/leftist-protesters-block-traffic-break-laws-sue-them-sue-them-sue-them\\n', 'content': '  criminality is getting out of hand', 'category': 'POLITICS'}\n"
     ]
    }
   ],
   "source": [
    "# the following code processed 'categorized_news_data.json' in categorize news_bayes file\n",
    "#the outputted file will later be combined with 'categorized_news_part1.json'\n",
    "result_list = []\n",
    "with open('categorized_news_data_line.json','r',encoding='utf-8') as f:\n",
    "    for line in f.readlines():\n",
    "        newline=json.loads(line)\n",
    "        g={}\n",
    "        #rename keys in dict\n",
    "        for d in newline:\n",
    "            g[d]=newline[d]\n",
    "            if d not in [\"\",\"id\", \"year\", \"month\", \"publication\", \"Phrasenostopword\"]:\n",
    "                g[d]=newline[d]\n",
    "        #delete unneeded keys\n",
    "        del g[\"\"]\n",
    "        del g[\"id\"]\n",
    "        del g[\"year\"]\n",
    "        del g[\"month\"]\n",
    "        del g[\"publication\"]\n",
    "        del g[\"Phrasenostopword\"]\n",
    "        # only keep news data after 2017-00-00\n",
    "        result_list.append(g)\n",
    "    #print(result_list[0])\n",
    "    #print(type(result_list)\n",
    "    #summarize 'content', no longer display the whole news article\n",
    "    for dictElement in result_list:\n",
    "        dictElement['content'] = get_first_sentence(dictElement['content'])\n",
    "    print(result_list[20000])\n",
    "    "
   ]
  },
  {
   "cell_type": "code",
   "execution_count": 19,
   "metadata": {},
   "outputs": [],
   "source": [
    "with open('categorized_news_part2.json', 'w') as f:\n",
    "    json.dump(result_list, f)"
   ]
  },
  {
   "cell_type": "code",
   "execution_count": 20,
   "metadata": {},
   "outputs": [
    {
     "name": "stdout",
     "output_type": "stream",
     "text": [
      "21000\n"
     ]
    }
   ],
   "source": [
    "print(len(result_list))"
   ]
  },
  {
   "cell_type": "code",
   "execution_count": null,
   "metadata": {},
   "outputs": [],
   "source": []
  }
 ],
 "metadata": {
  "kernelspec": {
   "display_name": "Python 3",
   "language": "python",
   "name": "python3"
  },
  "language_info": {
   "codemirror_mode": {
    "name": "ipython",
    "version": 3
   },
   "file_extension": ".py",
   "mimetype": "text/x-python",
   "name": "python",
   "nbconvert_exporter": "python",
   "pygments_lexer": "ipython3",
   "version": "3.7.6"
  }
 },
 "nbformat": 4,
 "nbformat_minor": 2
}
