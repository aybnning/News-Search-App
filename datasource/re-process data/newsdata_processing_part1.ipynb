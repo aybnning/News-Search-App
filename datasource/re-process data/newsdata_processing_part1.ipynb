{
 "cells": [
  {
   "cell_type": "code",
   "execution_count": 33,
   "metadata": {},
   "outputs": [],
   "source": [
    "import json"
   ]
  },
  {
   "cell_type": "code",
   "execution_count": 7,
   "metadata": {},
   "outputs": [
    {
     "name": "stdout",
     "output_type": "stream",
     "text": [
      "[{'category': 'CRIME', 'title': 'There Were 2 Mass Shootings In Texas Last Week, But Only 1 On TV', 'author': 'Melissa Jeltsen', 'url': 'https://www.huffingtonpost.com/entry/texas-amanda-painter-mass-shooting_us_5b081ab4e4b0802d69caad89', 'content': 'She left her husband. He killed their children. Just another day in America.', 'date': '2018-05-26'}, {'category': 'ENTERTAINMENT', 'title': \"Will Smith Joins Diplo And Nicky Jam For The 2018 World Cup's Official Song\", 'author': 'Andy McDonald', 'url': 'https://www.huffingtonpost.com/entry/will-smith-joins-diplo-and-nicky-jam-for-the-official-2018-world-cup-song_us_5b09726fe4b0fdb2aa541201', 'content': 'Of course it has a song.', 'date': '2018-05-26'}, {'category': 'ENTERTAINMENT', 'title': 'Hugh Grant Marries For The First Time At Age 57', 'author': 'Ron Dicker', 'url': 'https://www.huffingtonpost.com/entry/hugh-grant-marries_us_5b09212ce4b0568a880b9a8c', 'content': 'The actor and his longtime girlfriend Anna Eberstein tied the knot in a civil ceremony.', 'date': '2018-05-26'}, {'category': 'ENTERTAINMENT', 'title': \"Jim Carrey Blasts 'Castrato' Adam Schiff And Democrats In New Artwork\", 'author': 'Ron Dicker', 'url': 'https://www.huffingtonpost.com/entry/jim-carrey-adam-schiff-democrats_us_5b0950e8e4b0fdb2aa53e675', 'content': 'The actor gives Dems an ass-kicking for not fighting hard enough against Donald Trump.', 'date': '2018-05-26'}, {'category': 'ENTERTAINMENT', 'title': 'Julianna Margulies Uses Donald Trump Poop Bags To Pick Up After Her Dog', 'author': 'Ron Dicker', 'url': 'https://www.huffingtonpost.com/entry/julianna-margulies-trump-poop-bag_us_5b093ec2e4b0fdb2aa53df70', 'content': 'The \"Dietland\" actress said using the bags is a \"really cathartic, therapeutic moment.\"', 'date': '2018-05-26'}]\n"
     ]
    }
   ],
   "source": [
    "result_list = []\n",
    "with open('News_Category_Dataset_train.json','r',encoding='utf-8') as f:\n",
    "    for line in f.readlines():\n",
    "        #print(line )\n",
    "        newline=json.loads(line)\n",
    "        g={}\n",
    "        #rename keys in dict\n",
    "        #\"headline\" to \"title\", \"authors\" to“author”, \"link\" to “url”, \"short_description\" to \"content\"\n",
    "        for d in newline:\n",
    "            if d==\"headline\":\n",
    "                g[\"title\"]=newline[d]\n",
    "            elif d == \"authors\":\n",
    "                g[\"author\"] = newline[d]\n",
    "            elif d == \"link\":\n",
    "                g[\"url\"] = newline[d]\n",
    "            elif d == \"short_description\":\n",
    "                g[\"content\"] =  newline[d]\n",
    "            else:\n",
    "                g[d]=newline[d]\n",
    "            if d not in [\"\",\"id\", \"year\", \"month\", \"publication\", \"Phrasenostopword\"]:\n",
    "                g[d]=newline[d]\n",
    "        del g[\"headline\"]\n",
    "        del g[\"authors\"]\n",
    "        del g[\"link\"]\n",
    "        del g[\"short_description\"]\n",
    "        # only keep news data after 2017-00-00\n",
    "        if g[\"date\"] > '2017-00-00':\n",
    "            result_list.append(g)\n",
    "    print(result_list[0:5])"
   ]
  },
  {
   "cell_type": "code",
   "execution_count": 47,
   "metadata": {},
   "outputs": [],
   "source": [
    "with open('categorized_news_part1.json', 'w') as f:\n",
    "    json.dump(result_list, f)"
   ]
  },
  {
   "cell_type": "code",
   "execution_count": null,
   "metadata": {},
   "outputs": [],
   "source": []
  }
 ],
 "metadata": {
  "kernelspec": {
   "display_name": "Python 3",
   "language": "python",
   "name": "python3"
  },
  "language_info": {
   "codemirror_mode": {
    "name": "ipython",
    "version": 3
   },
   "file_extension": ".py",
   "mimetype": "text/x-python",
   "name": "python",
   "nbconvert_exporter": "python",
   "pygments_lexer": "ipython3",
   "version": "3.7.6"
  }
 },
 "nbformat": 4,
 "nbformat_minor": 2
}
